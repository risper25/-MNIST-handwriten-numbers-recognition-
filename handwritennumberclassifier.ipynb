{
  "nbformat": 4,
  "nbformat_minor": 0,
  "metadata": {
    "colab": {
      "name": "handwritennumberclassifier.ipynb",
      "version": "0.3.2",
      "provenance": [],
      "collapsed_sections": []
    },
    "kernelspec": {
      "name": "python3",
      "display_name": "Python 3"
    },
    "accelerator": "GPU"
  },
  "cells": [
    {
      "metadata": {
        "id": "a2JgkAj1m4mN",
        "colab_type": "text"
      },
      "cell_type": "markdown",
      "source": [
        ""
      ]
    },
    {
      "metadata": {
        "id": "Ggp0w0nyQmFY",
        "colab_type": "code",
        "outputId": "4b5172f6-26db-49f1-80f7-70886622a6ee",
        "colab": {
          "base_uri": "https://localhost:8080/",
          "height": 54
        }
      },
      "cell_type": "code",
      "source": [
        "from os.path import exists\n",
        "from wheel.pep425tags import get_abbr_impl, get_impl_ver, get_abi_tag\n",
        "platform = '{}{}-{}'.format(get_abbr_impl(), get_impl_ver(), get_abi_tag())\n",
        "cuda_output = !ldconfig -p|grep cudart.so|sed -e 's/.*\\.\\([0-9]*\\)\\.\\([0-9]*\\)$/cu\\1\\2/'\n",
        "accelerator = cuda_output[0] if exists('/dev/nvidia0') else 'cpu'\n",
        "\n",
        "!pip install -q http://download.pytorch.org/whl/{accelerator}/torch-0.4.1-{platform}-linux_x86_64.whl torchvision\n",
        "import torch"
      ],
      "execution_count": 0,
      "outputs": [
        {
          "output_type": "stream",
          "text": [
            "tcmalloc: large alloc 1073750016 bytes == 0x579b0000 @  0x7f672a0822a4 0x591a07 0x5b5d56 0x502e9a 0x506859 0x502209 0x502f3d 0x506859 0x504c28 0x502540 0x502f3d 0x506859 0x504c28 0x502540 0x502f3d 0x506859 0x504c28 0x502540 0x502f3d 0x507641 0x502209 0x502f3d 0x506859 0x504c28 0x502540 0x502f3d 0x507641 0x504c28 0x502540 0x502f3d 0x507641\n"
          ],
          "name": "stdout"
        }
      ]
    },
    {
      "metadata": {
        "id": "WGR3rT8pvVUC",
        "colab_type": "text"
      },
      "cell_type": "markdown",
      "source": [
        ""
      ]
    },
    {
      "metadata": {
        "id": "6iL8M9MUG4ed",
        "colab_type": "code",
        "outputId": "39cab557-6003-486c-9f8b-5f3350c77b18",
        "colab": {
          "base_uri": "https://localhost:8080/",
          "height": 34
        }
      },
      "cell_type": "code",
      "source": [
        "import torch\n",
        "import numpy as np\n",
        "\n",
        "# check if CUDA is available\n",
        "train_on_gpu = torch.cuda.is_available()\n",
        "\n",
        "if not train_on_gpu:\n",
        "    print('CUDA is not available.  Training on CPU ...')\n",
        "else:\n",
        "    print('CUDA is available!  Training on GPU ...')"
      ],
      "execution_count": 0,
      "outputs": [
        {
          "output_type": "stream",
          "text": [
            "CUDA is available!  Training on GPU ...\n"
          ],
          "name": "stdout"
        }
      ]
    },
    {
      "metadata": {
        "id": "eFyc5kbzeMUu",
        "colab_type": "code",
        "outputId": "760a4fa4-8dc4-4705-cb8e-ac395e504288",
        "colab": {
          "base_uri": "https://localhost:8080/",
          "height": 208
        }
      },
      "cell_type": "code",
      "source": [
        "!wget -c https://raw.githubusercontent.com/udacity/deep-learning-v2-pytorch/master/intro-to-pytorch/helper.py"
      ],
      "execution_count": 0,
      "outputs": [
        {
          "output_type": "stream",
          "text": [
            "--2018-12-20 07:28:47--  https://raw.githubusercontent.com/udacity/deep-learning-v2-pytorch/master/intro-to-pytorch/helper.py\n",
            "Resolving raw.githubusercontent.com (raw.githubusercontent.com)... 151.101.0.133, 151.101.64.133, 151.101.128.133, ...\n",
            "Connecting to raw.githubusercontent.com (raw.githubusercontent.com)|151.101.0.133|:443... connected.\n",
            "HTTP request sent, awaiting response... 200 OK\n",
            "Length: 2813 (2.7K) [text/plain]\n",
            "Saving to: ‘helper.py’\n",
            "\n",
            "\rhelper.py             0%[                    ]       0  --.-KB/s               \rhelper.py           100%[===================>]   2.75K  --.-KB/s    in 0s      \n",
            "\n",
            "2018-12-20 07:28:47 (48.9 MB/s) - ‘helper.py’ saved [2813/2813]\n",
            "\n"
          ],
          "name": "stdout"
        }
      ]
    },
    {
      "metadata": {
        "id": "BV0YHtypXGFb",
        "colab_type": "code",
        "colab": {}
      },
      "cell_type": "code",
      "source": [
        "import matplotlib.pyplot as plt\n",
        "import numpy as np\n",
        "from torch import nn, optim\n",
        "from torchvision import datasets, transforms\n",
        "import helper\n",
        "from torch.autograd import Variable\n",
        "import torch.nn.functional as F\n",
        "      "
      ],
      "execution_count": 0,
      "outputs": []
    },
    {
      "metadata": {
        "id": "s_41Qu6BeS9V",
        "colab_type": "code",
        "outputId": "3b8639a3-9639-4150-9779-c46434d100c4",
        "colab": {
          "base_uri": "https://localhost:8080/",
          "height": 121
        }
      },
      "cell_type": "code",
      "source": [
        "#Define a transform to normalize the data\n",
        "transform=transforms.Compose([transforms.ToTensor(),\n",
        "                             transforms.Normalize((0.5,0.5,0.5),(0.5,0.5,0.5))])\n",
        "#Download and load the training data\n",
        "trainset=datasets.MNIST('~/.pytorch/MNIST_data/', download=True, train=True, transform=transform)\n",
        "trainloader=torch.utils.data.DataLoader(trainset,batch_size=64,shuffle=True)\n",
        "#Download and load the test data\n",
        "testset=datasets.MNIST('~/.pytorch/MNIST_data/', download=True, train=False, transform=transform)\n",
        "testloader=torch.utils.data.DataLoader(testset,batch_size=64,shuffle=True)"
      ],
      "execution_count": 0,
      "outputs": [
        {
          "output_type": "stream",
          "text": [
            "Downloading http://yann.lecun.com/exdb/mnist/train-images-idx3-ubyte.gz\n",
            "Downloading http://yann.lecun.com/exdb/mnist/train-labels-idx1-ubyte.gz\n",
            "Downloading http://yann.lecun.com/exdb/mnist/t10k-images-idx3-ubyte.gz\n",
            "Downloading http://yann.lecun.com/exdb/mnist/t10k-labels-idx1-ubyte.gz\n",
            "Processing...\n",
            "Done!\n"
          ],
          "name": "stdout"
        }
      ]
    },
    {
      "metadata": {
        "id": "9Tn595-qeTNy",
        "colab_type": "code",
        "outputId": "54d3a17d-e15e-4c40-d3a2-81b0abd58d87",
        "colab": {
          "base_uri": "https://localhost:8080/",
          "height": 330
        }
      },
      "cell_type": "code",
      "source": [
        "#show an image from the training dataset\n",
        "images,labels=next(iter(trainloader))\n",
        "helper.imshow(images[0,:]);\n"
      ],
      "execution_count": 0,
      "outputs": [
        {
          "output_type": "display_data",
          "data": {
            "image/png": "[encoded data removed]",
            "text/plain": [
              "<matplotlib.figure.Figure at 0x7f9f656e1748>"
            ]
          },
          "metadata": {
            "tags": []
          }
        }
      ]
    },
    {
      "metadata": {
        "id": "93z__pA56LuA",
        "colab_type": "code",
        "outputId": "0f7ee334-7493-47a2-8191-621d9f2f9745",
        "colab": {
          "base_uri": "https://localhost:8080/",
          "height": 34
        }
      },
      "cell_type": "code",
      "source": [
        "#show the size or dimensions of an image\n",
        "images.shape"
      ],
      "execution_count": 0,
      "outputs": [
        {
          "output_type": "execute_result",
          "data": {
            "text/plain": [
              "torch.Size([64, 1, 28, 28])"
            ]
          },
          "metadata": {
            "tags": []
          },
          "execution_count": 7
        }
      ]
    },
    {
      "metadata": {
        "id": "VSBjzPLreTa9",
        "colab_type": "code",
        "colab": {}
      },
      "cell_type": "code",
      "source": [
        "#create your neural network artichecture\n",
        "class Network(nn.Module):\n",
        "  \n",
        "  \n",
        "  def __init__(self):\n",
        "    super().__init__()\n",
        "    self.input=nn.Linear(784,256)\n",
        "    self.hidden1=nn.Linear(256,100)\n",
        "    self.hidden2=nn.Linear(100,20)\n",
        "    self.output=nn.Linear(20,10)\n",
        "    self.dropout=nn.Dropout(p=0.3)\n",
        "  #forward function\n",
        "  def forward(self,x):\n",
        "    #flatten the inputs\n",
        "    x=x.view(x.shape[0],-1)\n",
        "    #pass input x into the neural network\n",
        "    x=self.dropout(F.relu(self.input(x)))\n",
        "    x=self.dropout(F.relu(self.hidden1(x)))\n",
        "    x=self.dropout(F.relu(self.hidden2(x)))\n",
        "    x=F.log_softmax(self.output(x),dim=1)\n",
        "    return x\n",
        "  "
      ],
      "execution_count": 0,
      "outputs": []
    },
    {
      "metadata": {
        "id": "vGkFLGtsPr_b",
        "colab_type": "code",
        "colab": {}
      },
      "cell_type": "code",
      "source": [
        " #create a network ,define criterion and optimum\n",
        "model=Network()\n",
        "#define the loff function\n",
        "criterion=nn.CrossEntropyLoss()\n",
        "#define the gradient function\n",
        "optimizer=optim.SGD(model.parameters(),lr=0.03)\n",
        "  "
      ],
      "execution_count": 0,
      "outputs": []
    },
    {
      "metadata": {
        "id": "Oi1jfTcnPsR6",
        "colab_type": "code",
        "outputId": "9dc68cfc-3835-4aed-d49d-060db3dba649",
        "colab": {
          "base_uri": "https://localhost:8080/",
          "height": 156
        }
      },
      "cell_type": "code",
      "source": [
        "#train the network\n",
        "epochs=8\n",
        "steps=0\n",
        "train_losses=[]\n",
        "test_losses=[]\n",
        "for e in range(epochs):\n",
        "  running_loss=0\n",
        "  for images,labels in trainloader:\n",
        "    \n",
        "    #clear gradient\n",
        "    optimizer.zero_grad()\n",
        "    #forwardpass\n",
        "    output=model(images)\n",
        "    #get the loss\n",
        "    loss=criterion(output,labels)\n",
        "    #backwardpass\n",
        "    loss.backward()\n",
        "    optimizer.step()\n",
        "    \n",
        "    running_loss+=loss.item()\n",
        "  else:\n",
        "    test_loss=0\n",
        "    accuracy=0\n",
        "    with torch.no_grad():\n",
        "      model.eval()\n",
        "      for images,labels in testloader:\n",
        "        logits=model(images)\n",
        "        test_loss+=criterion(logits,labels)\n",
        "        testOutput=torch.exp(logits)\n",
        "        top_p,top_class=testOutput.topk(1,dim=1)\n",
        "        equals=top_class=labels.view(*top_class.shape)\n",
        "        accuracy+=torch.mean(equals.type(torch.FloatTensor))\n",
        "    model.train()    \n",
        "    \n",
        "    train_losses.append(running_loss/len(trainloader))\n",
        "    test_losses.append(test_loss/len(testloader))\n",
        "    print(\"Epoch {}/{}\".format(e+1,epochs),\n",
        "          \"training loss: {:.3f}\".format(running_loss/len(trainloader)),\n",
        "          \"test loss: {:.3f}\".format(test_loss/len(testloader)),\n",
        "          \"accuracy: {:.3f}\".format(accuracy/len(testloader)))\n",
        "\n",
        "    "
      ],
      "execution_count": 0,
      "outputs": [
        {
          "output_type": "stream",
          "text": [
            "Epoch 1/8 training loss: 1.231 test loss: 0.420 accuracy: 4.442\n",
            "Epoch 2/8 training loss: 0.559 test loss: 0.282 accuracy: 4.449\n",
            "Epoch 3/8 training loss: 0.422 test loss: 0.212 accuracy: 4.441\n",
            "Epoch 4/8 training loss: 0.353 test loss: 0.174 accuracy: 4.447\n",
            "Epoch 5/8 training loss: 0.307 test loss: 0.173 accuracy: 4.442\n",
            "Epoch 6/8 training loss: 0.283 test loss: 0.150 accuracy: 4.441\n",
            "Epoch 7/8 training loss: 0.257 test loss: 0.128 accuracy: 4.441\n",
            "Epoch 8/8 training loss: 0.235 test loss: 0.144 accuracy: 4.444\n"
          ],
          "name": "stdout"
        }
      ]
    },
    {
      "metadata": {
        "id": "pUMBjeKQpofK",
        "colab_type": "code",
        "colab": {}
      },
      "cell_type": "code",
      "source": [
        ""
      ],
      "execution_count": 0,
      "outputs": []
    },
    {
      "metadata": {
        "id": "RhN1S997PgxI",
        "colab_type": "code",
        "outputId": "e611409a-be61-42bb-9416-982a02d67ccb",
        "colab": {
          "base_uri": "https://localhost:8080/",
          "height": 282
        }
      },
      "cell_type": "code",
      "source": [
        "#plot in graph\n",
        "%matplotlib inline\n",
        "%config InLineBackend.figure_format='retina'          \n",
        "import matplotlib.pyplot as plt\n",
        "plt.plot(train_losses,label='training loss')\n",
        "plt.plot(test_losses,label='test loss')\n",
        "plt.legend(frameon=False)\n",
        "   "
      ],
      "execution_count": 0,
      "outputs": [
        {
          "output_type": "execute_result",
          "data": {
            "text/plain": [
              "<matplotlib.legend.Legend at 0x7f9f650cc7b8>"
            ]
          },
          "metadata": {
            "tags": []
          },
          "execution_count": 11
        },
        {
          "output_type": "display_data",
          "data": {
            "image/png": "[encoded data removed]",
            "text/plain": [
              "<matplotlib.figure.Figure at 0x7f9f650c4128>"
            ]
          },
          "metadata": {
            "tags": []
          }
        }
      ]
    },
    {
      "metadata": {
        "id": "Ov1Q_mpBWNkz",
        "colab_type": "code",
        "outputId": "f8712b20-262d-4528-c36c-d9c40372706e",
        "colab": {
          "base_uri": "https://localhost:8080/",
          "height": 262
        }
      },
      "cell_type": "code",
      "source": [
        "#visualize\n",
        "%matplotlib inline\n",
        "%config InLineBackend.figure_format='retina'\n",
        "dataier=iter(testloader)\n",
        "images,labels=dataier.next()\n",
        "img=images[1]\n",
        "img.shape\n",
        "\n",
        "ps= torch.exp(model.forward(img))\n",
        "print(ps.shape)\n",
        "helper.view_classify(img.view(1,28,28),ps)\n",
        "\n"
      ],
      "execution_count": 0,
      "outputs": [
        {
          "output_type": "stream",
          "text": [
            "torch.Size([1, 10])\n"
          ],
          "name": "stdout"
        },
        {
          "output_type": "display_data",
          "data": {
            "image/png": "[encoded data removed]",
            "text/plain": [
              "<matplotlib.figure.Figure at 0x7f9f6511b978>"
            ]
          },
          "metadata": {
            "tags": []
          }
        }
      ]
    }
  ]
}
